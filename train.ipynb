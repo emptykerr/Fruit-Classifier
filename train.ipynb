{
 "cells": [
  {
   "cell_type": "code",
   "execution_count": 7,
   "metadata": {},
   "outputs": [
    {
     "name": "stdout",
     "output_type": "stream",
     "text": [
      "Using device: cuda\n"
     ]
    }
   ],
   "source": [
    "import torch\n",
    "import torchvision\n",
    "import torch.nn\n",
    "import torch.optim\n",
    "from torch.utils.data import DataLoader\n",
    "import torchvision.transforms as transforms\n",
    "from sklearn.metrics import accuracy_score\n",
    "\n",
    "\n",
    "# Check for available device (GPU, MPS, or CPU)\n",
    "device = torch.device('cuda' if torch.cuda.is_available() else 'mps' if torch.backends.mps.is_available() else 'cpu')\n",
    "print(f\"Using device: {device}\")"
   ]
  },
  {
   "cell_type": "code",
   "execution_count": 8,
   "metadata": {},
   "outputs": [],
   "source": [
    "from torch.utils.data import Subset\n",
    "from torchvision.datasets import ImageFolder\n",
    "from torch.utils.data import DataLoader\n",
    "from torch.utils.data import random_split\n",
    "\n",
    "data_root =  './train_data/'\n",
    "image_size = (300,300)\n",
    "\n",
    "transform = transforms.Compose([\n",
    "    transforms.Resize(image_size),\n",
    "    transforms.ToTensor(),\n",
    "    transforms.Normalize((0.5,0.5,0.5), (0.5,0.5,0.5))\n",
    "])\n",
    "\n",
    "train_dataset = ImageFolder(root=data_root, transform=transform)\n",
    "\n",
    "# Split the dataset into training and validation sets\n",
    "train_size = int(0.8 * len(train_dataset))\n",
    "test_size = len(train_dataset) - train_size\n",
    "\n",
    "train_dataset, test_dataset = random_split(train_dataset, [train_size, test_size])\n",
    "train_loader = DataLoader(train_dataset, batch_size=32, shuffle=True)\n",
    "test_loader = DataLoader(test_dataset, batch_size=32, shuffle=False)\n"
   ]
  },
  {
   "cell_type": "markdown",
   "metadata": {},
   "source": [
    "# Baseline Model"
   ]
  },
  {
   "cell_type": "code",
   "execution_count": 9,
   "metadata": {},
   "outputs": [
    {
     "name": "stdout",
     "output_type": "stream",
     "text": [
      "Epoch [1/10], Loss: 0.9500730037689209\n",
      "Epoch [2/10], Loss: 1.172192931175232\n",
      "Epoch [3/10], Loss: 1.1247400045394897\n",
      "Epoch [4/10], Loss: 0.7774066925048828\n",
      "Epoch [5/10], Loss: 1.0034619569778442\n",
      "Epoch [6/10], Loss: 0.9922547340393066\n",
      "Epoch [7/10], Loss: 1.3390343189239502\n",
      "Epoch [8/10], Loss: 0.7444821000099182\n",
      "Epoch [9/10], Loss: 0.7488672137260437\n",
      "Epoch [10/10], Loss: 0.6170305609703064\n"
     ]
    }
   ],
   "source": [
    "# Step 3: Build a simple Baseline model.\n",
    "# You should build a simple/standard neural network, i.e. multilayer perceptron (MLP) trained\n",
    "# by back-propagation for this step, which helps you have a baseline intuition / idea of the task.\n",
    "# It is probably easiest to just do this in PyTorch. Don’t use a CNN for this part! The point\n",
    "# is to get a sense of how well a “vanilla” neural net can do, without convolutions. Because it\n",
    "# is “dense”, this probably can’t be too large, as it has to be trained in a reasonable amount of\n",
    "# time. Start small and see how you go.\n",
    "\n",
    "class MLP(torch.nn.Module):\n",
    "    def __init__(self, input_size, hidden_size, num_classes):\n",
    "        super(MLP, self).__init__()\n",
    "        self.fc1 = torch.nn.Linear(input_size, hidden_size)\n",
    "        self.relu = torch.nn.ReLU()\n",
    "        self.fc2 = torch.nn.Linear(hidden_size, num_classes)\n",
    "    \n",
    "    def forward(self, x):\n",
    "        out = self.fc1(x)\n",
    "        out = self.relu(out)\n",
    "        out = self.fc2(out)\n",
    "        return out\n",
    "    \n",
    "input_size = 300*300*3\n",
    "hidden_size = 100\n",
    "num_classes = 3\n",
    "\n",
    "model = MLP(input_size, hidden_size, num_classes).to(device)\n",
    "\n",
    "#Train the model\n",
    "criterion = torch.nn.CrossEntropyLoss()\n",
    "optimizer = torch.optim.SGD(model.parameters(), lr=0.001, momentum =0.9)\n",
    "\n",
    "num_epochs = 10\n",
    "total_step = len(train_loader)\n",
    "\n",
    "for epoch in range(num_epochs):\n",
    "    for i, (images, labels) in enumerate(train_loader):\n",
    "        images = images.reshape(-1, 300*300*3).to(device)\n",
    "        labels = labels.to(device)\n",
    "        \n",
    "        #Forward pass\n",
    "        outputs = model(images)\n",
    "        loss = criterion(outputs, labels)\n",
    "        \n",
    "        #Backward pass and optimization\n",
    "        optimizer.zero_grad()\n",
    "        loss.backward()\n",
    "        optimizer.step()\n",
    "        \n",
    "        if (i+1) % 100 == 0:\n",
    "            print(f'Epoch [{epoch+1}/{num_epochs}], Loss: {loss.item()}')"
   ]
  },
  {
   "cell_type": "code",
   "execution_count": 10,
   "metadata": {},
   "outputs": [
    {
     "name": "stdout",
     "output_type": "stream",
     "text": [
      "Training Accuracy: 75.25083612040133%\n",
      "Test Accuracy: 48.60646599777034%\n"
     ]
    }
   ],
   "source": [
    "# Evaluate the Baseline model.\n",
    "# Print the train and test accuracy\n",
    "model.eval()\n",
    "with torch.no_grad():\n",
    "    correct_train = 0\n",
    "    total_train = 0\n",
    "    for images, labels in train_loader:\n",
    "        images = images.reshape(-1, 300*300*3).to(device)\n",
    "        labels = labels.to(device)\n",
    "        outputs = model(images)\n",
    "        _, predicted = torch.max(outputs.data, 1)\n",
    "        total_train += labels.size(0)\n",
    "        correct_train += (predicted == labels).sum().item()\n",
    "\n",
    "    print(f'Training Accuracy: {100 * correct_train / total_train}%')\n",
    "\n",
    "    correct_test = 0\n",
    "    total_test = 0\n",
    "    for images, labels in test_loader:\n",
    "        images = images.reshape(-1, 300*300*3).to(device)\n",
    "        labels = labels.to(device)\n",
    "        outputs = model(images)\n",
    "        _, predicted = torch.max(outputs.data, 1)\n",
    "        total_test += labels.size(0)\n",
    "        correct_test += (predicted == labels).sum().item()\n",
    "\n",
    "    print(f'Test Accuracy: {100 * correct_test / total_test}%')"
   ]
  }
 ],
 "metadata": {
  "kernelspec": {
   "display_name": "Python 3",
   "language": "python",
   "name": "python3"
  },
  "language_info": {
   "codemirror_mode": {
    "name": "ipython",
    "version": 3
   },
   "file_extension": ".py",
   "mimetype": "text/x-python",
   "name": "python",
   "nbconvert_exporter": "python",
   "pygments_lexer": "ipython3",
   "version": "3.11.9"
  }
 },
 "nbformat": 4,
 "nbformat_minor": 2
}
