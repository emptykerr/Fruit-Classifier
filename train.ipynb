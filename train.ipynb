{
 "cells": [
  {
   "cell_type": "code",
   "execution_count": 13,
   "metadata": {},
   "outputs": [
    {
     "name": "stdout",
     "output_type": "stream",
     "text": [
      "Using device: cpu\n"
     ]
    }
   ],
   "source": [
    "import torch\n",
    "import torchvision\n",
    "import torch.nn\n",
    "import torch.optim\n",
    "from torch.utils.data import DataLoader\n",
    "import torchvision.transforms as transforms\n",
    "from sklearn.metrics import accuracy_score\n",
    "\n",
    "\n",
    "# Check for available device (GPU, MPS, or CPU)\n",
    "device = torch.device('cuda' if torch.cuda.is_available() else 'mps' if torch.backends.mps.is_available() else 'cpu')\n",
    "print(f\"Using device: {device}\")"
   ]
  },
  {
   "cell_type": "code",
   "execution_count": 14,
   "metadata": {},
   "outputs": [],
   "source": [
    "from torch.utils.data import Subset\n",
    "from torchvision.datasets import ImageFolder\n",
    "from torch.utils.data import DataLoader\n",
    "from torch.utils.data import random_split\n",
    "\n",
    "data_root =  './train_data/'\n",
    "image_size = (300,300)\n",
    "\n",
    "transform = transforms.Compose([\n",
    "    transforms.Resize(image_size),\n",
    "    transforms.ToTensor(),\n",
    "    transforms.Normalize((0.5,0.5,0.5), (0.5,0.5,0.5))\n",
    "])\n",
    "\n",
    "train_dataset = ImageFolder(root=data_root, transform=transform)\n",
    "\n",
    "# Split the dataset into training and validation sets\n",
    "train_size = int(0.8 * len(train_dataset))\n",
    "test_size = len(train_dataset) - train_size\n",
    "\n",
    "train_dataset, test_dataset = random_split(train_dataset, [train_size, test_size])\n",
    "train_loader = DataLoader(train_dataset, batch_size=32, shuffle=True)\n",
    "test_loader = DataLoader(test_dataset, batch_size=32, shuffle=False)\n",
    "\n",
    "\n",
    "\n"
   ]
  },
  {
   "cell_type": "markdown",
   "metadata": {},
   "source": [
    "# EDA"
   ]
  },
  {
   "cell_type": "code",
   "execution_count": 15,
   "metadata": {},
   "outputs": [
    {
     "name": "stdout",
     "output_type": "stream",
     "text": [
      "['cherry', 'strawberry', 'tomato']\n",
      "Class cherry: 1495 images\n",
      "Class strawberry: 1495 images\n",
      "Class tomato: 1495 images\n"
     ]
    }
   ],
   "source": [
    "# Step 1: Conduct exploratory data analysis (EDA).\n",
    "# By performing EDA, you can have a better understanding about the data, which helps you\n",
    "# decide whether to perform pre-processing (such as image filtering or feature engineering) and\n",
    "# which methods to perform in order to improve the data quality. Check they’re all the right\n",
    "# size. \n",
    "\n",
    "class_names = train_dataset.dataset.classes\n",
    "print(class_names)\n",
    "\n",
    "class_counts = train_dataset.dataset.targets\n",
    "\n",
    "for i in range(len(class_names)):\n",
    "    print(f\"Class {class_names[i]}: {class_counts.count(i)} images\")\t"
   ]
  },
  {
   "cell_type": "markdown",
   "metadata": {},
   "source": [
    "# Baseline Model"
   ]
  },
  {
   "cell_type": "code",
   "execution_count": 16,
   "metadata": {},
   "outputs": [
    {
     "name": "stdout",
     "output_type": "stream",
     "text": [
      "Epoch [1/10], Step [100/113], Loss: 1.019852876663208\n",
      "Epoch [2/10], Step [100/113], Loss: 1.0805732011795044\n",
      "Epoch [3/10], Step [100/113], Loss: 0.88969886302948\n",
      "Epoch [4/10], Step [100/113], Loss: 0.7597952485084534\n",
      "Epoch [5/10], Step [100/113], Loss: 0.7798830270767212\n",
      "Epoch [6/10], Step [100/113], Loss: 0.7996910810470581\n",
      "Epoch [7/10], Step [100/113], Loss: 0.5921481847763062\n",
      "Epoch [8/10], Step [100/113], Loss: 0.5194516777992249\n",
      "Epoch [9/10], Step [100/113], Loss: 0.7044929265975952\n",
      "Epoch [10/10], Step [100/113], Loss: 0.6522991061210632\n"
     ]
    }
   ],
   "source": [
    "# Step 3: Build a simple Baseline model.\n",
    "# You should build a simple/standard neural network, i.e. multilayer perceptron (MLP) trained\n",
    "# by back-propagation for this step, which helps you have a baseline intuition / idea of the task.\n",
    "# It is probably easiest to just do this in PyTorch. Don’t use a CNN for this part! The point\n",
    "# is to get a sense of how well a “vanilla” neural net can do, without convolutions. Because it\n",
    "# is “dense”, this probably can’t be too large, as it has to be trained in a reasonable amount of\n",
    "# time. Start small and see how you go.\n",
    "\n",
    "class MLP(torch.nn.Module):\n",
    "    def __init__(self, input_size, hidden_size, num_classes):\n",
    "        super(MLP, self).__init__()\n",
    "        self.fc1 = torch.nn.Linear(input_size, hidden_size)\n",
    "        self.relu = torch.nn.ReLU()\n",
    "        self.fc2 = torch.nn.Linear(hidden_size, num_classes)\n",
    "    \n",
    "    def forward(self, x):\n",
    "        out = self.fc1(x)\n",
    "        out = self.relu(out)\n",
    "        out = self.fc2(out)\n",
    "        return out\n",
    "    \n",
    "input_size = 300*300*3\n",
    "hidden_size = 100\n",
    "num_classes = 3\n",
    "\n",
    "model = MLP(input_size, hidden_size, num_classes).to(device)\n",
    "\n",
    "#Train the model\n",
    "criterion = torch.nn.CrossEntropyLoss()\n",
    "optimizer = torch.optim.SGD(model.parameters(), lr=0.001, momentum =0.9)\n",
    "\n",
    "num_epochs = 10\n",
    "total_step = len(train_loader)\n",
    "\n",
    "for epoch in range(num_epochs):\n",
    "    for i, (images, labels) in enumerate(train_loader):\n",
    "        images = images.reshape(-1, 300*300*3).to(device)\n",
    "        labels = labels.to(device)\n",
    "        \n",
    "        #Forward pass\n",
    "        outputs = model(images)\n",
    "        loss = criterion(outputs, labels)\n",
    "        \n",
    "        #Backward pass and optimization\n",
    "        optimizer.zero_grad()\n",
    "        loss.backward()\n",
    "        optimizer.step()\n",
    "        \n",
    "        if (i+1) % 100 == 0:\n",
    "            print(f'Epoch [{epoch+1}/{num_epochs}], Step [{i+1}/{total_step}], Loss: {loss.item()}')"
   ]
  },
  {
   "cell_type": "code",
   "execution_count": 17,
   "metadata": {},
   "outputs": [
    {
     "name": "stdout",
     "output_type": "stream",
     "text": [
      "Test Accuracy of the model on the test images: 47.38015607580825 %\n"
     ]
    }
   ],
   "source": [
    "# Evaluate the Baseline model.\n",
    "\n",
    "model.eval()  \n",
    "with torch.no_grad():\n",
    "    correct = 0\n",
    "    total = 0\n",
    "    for images, labels in test_loader:\n",
    "        images = images.reshape(-1, 300*300*3).to(device)\n",
    "        labels = labels.to(device)\n",
    "        outputs = model(images)\n",
    "        _, predicted = torch.max(outputs.data, 1)\n",
    "        total += labels.size(0)\n",
    "        correct += (predicted == labels).sum().item()\n",
    "\n",
    "    print('Test Accuracy of the model on the test images: {} %'.format(100 * correct / total))\n"
   ]
  }
 ],
 "metadata": {
  "kernelspec": {
   "display_name": "Python 3",
   "language": "python",
   "name": "python3"
  },
  "language_info": {
   "codemirror_mode": {
    "name": "ipython",
    "version": 3
   },
   "file_extension": ".py",
   "mimetype": "text/x-python",
   "name": "python",
   "nbconvert_exporter": "python",
   "pygments_lexer": "ipython3",
   "version": "3.11.9"
  }
 },
 "nbformat": 4,
 "nbformat_minor": 2
}
