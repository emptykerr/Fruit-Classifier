{
 "cells": [
  {
   "cell_type": "markdown",
   "id": "1f9dbcee",
   "metadata": {},
   "source": [
    "# Preprocessing for Fruit Image Classification Dataset"
   ]
  },
  {
   "cell_type": "markdown",
   "id": "c0f5030c",
   "metadata": {},
   "source": [
    "This notebook applies preprocessing steps to improve the quality of a fruit classification dataset by resizing images, detecting and removing blurry images, and applying edge detection."
   ]
  },
  {
   "cell_type": "markdown",
   "id": "79e8ed24",
   "metadata": {},
   "source": [
    "## Step 1: Set Up Paths and Define Helper Functions"
   ]
  },
  {
   "cell_type": "code",
   "execution_count": null,
   "id": "0606366f",
   "metadata": {},
   "outputs": [],
   "source": [
    "\n",
    "import os\n",
    "import numpy as np\n",
    "from PIL import Image, ImageOps\n",
    "import cv2\n",
    "\n",
    "# Define dataset paths\n",
    "dataset_path = 'train_data'\n",
    "output_path = 'processed_data'\n",
    "classes = ['tomato', 'cherry', 'strawberry']\n",
    "target_size = (128, 128)\n",
    "\n",
    "# Ensure output directory exists\n",
    "os.makedirs(output_path, exist_ok=True)\n",
    "for cls in classes:\n",
    "    os.makedirs(os.path.join(output_path, cls), exist_ok=True)\n",
    "\n",
    "# Function to detect blur\n",
    "def is_blurry(image):\n",
    "    gray_image = np.array(image.convert('L'))\n",
    "    laplacian_var = cv2.Laplacian(gray_image, cv2.CV_64F).var()\n",
    "    return laplacian_var < 100  # Threshold for blurriness\n",
    "\n",
    "# Edge detection function\n",
    "def apply_edge_detection(image):\n",
    "    gray_image = np.array(image.convert('L'))\n",
    "    edges = cv2.Canny(gray_image, threshold1=100, threshold2=200)\n",
    "    return Image.fromarray(edges)\n"
   ]
  },
  {
   "cell_type": "markdown",
   "id": "843533a2",
   "metadata": {},
   "source": [
    "## Step 2: Preprocess Images"
   ]
  },
  {
   "cell_type": "code",
   "execution_count": null,
   "id": "9842894a",
   "metadata": {},
   "outputs": [],
   "source": [
    "\n",
    "# Loop through each class and preprocess images\n",
    "for fruit_class in classes:\n",
    "    folder_path = os.path.join(dataset_path, fruit_class)\n",
    "    output_folder_path = os.path.join(output_path, fruit_class)\n",
    "    image_files = [f for f in os.listdir(folder_path) if f.lower().endswith(('.png', '.jpg', '.jpeg'))]\n",
    "    \n",
    "    for image_file in image_files:\n",
    "        image_path = os.path.join(folder_path, image_file)\n",
    "        image = Image.open(image_path)\n",
    "\n",
    "        # Step 1: Check for blur\n",
    "        if is_blurry(image):\n",
    "            print(f\"Skipping blurry image: {image_path}\")\n",
    "            continue\n",
    "        \n",
    "        # Step 2: Resize with padding to target size\n",
    "        image = ImageOps.fit(image, target_size, Image.LANCZOS)\n",
    "\n",
    "        # Step 3: Apply edge detection\n",
    "        edge_image = apply_edge_detection(image)\n",
    "\n",
    "        # Save processed image\n",
    "        processed_image_path = os.path.join(output_folder_path, image_file)\n",
    "        edge_image.save(processed_image_path)\n",
    "\n",
    "print(\"Preprocessing completed. Processed images are saved in the 'processed_data' folder.\")\n"
   ]
  }
 ],
 "metadata": {},
 "nbformat": 4,
 "nbformat_minor": 5
}
